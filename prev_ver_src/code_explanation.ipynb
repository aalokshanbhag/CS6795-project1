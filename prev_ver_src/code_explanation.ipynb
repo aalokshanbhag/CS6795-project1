{
 "cells": [
  {
   "cell_type": "code",
   "execution_count": 1,
   "metadata": {},
   "outputs": [],
   "source": [
    "import sys"
   ]
  },
  {
   "cell_type": "code",
   "execution_count": 2,
   "metadata": {},
   "outputs": [],
   "source": [
    "def Q1(input):\n",
    "    if input[0] == 1:\n",
    "        return Q3(input)\n",
    "    else:\n",
    "        return False"
   ]
  },
  {
   "cell_type": "code",
   "execution_count": 3,
   "metadata": {},
   "outputs": [],
   "source": [
    "def Q3(input):\n",
    "    if (input[1] == 1 and input[2] == 1):\n",
    "        return False\n",
    "    elif (input[1] == 1 and input[2] == 0):\n",
    "        return Q4(input)\n",
    "    elif (input[1] == 0 and input[2] == 1):\n",
    "        return Q4(input)\n",
    "    else:\n",
    "        return False"
   ]
  },
  {
   "cell_type": "code",
   "execution_count": 4,
   "metadata": {},
   "outputs": [],
   "source": [
    "def Q4(input):\n",
    "    if input[3] == 1:\n",
    "        return Q5(input)\n",
    "    else:\n",
    "        return False"
   ]
  },
  {
   "cell_type": "code",
   "execution_count": 5,
   "metadata": {},
   "outputs": [],
   "source": [
    "def Q5(input):\n",
    "    if input[4] == 1:\n",
    "        return True\n",
    "    else:\n",
    "        return False"
   ]
  },
  {
   "cell_type": "code",
   "execution_count": 6,
   "metadata": {},
   "outputs": [],
   "source": [
    "def decisionTree(input):\n",
    "    isChanged = Q1(input)\n",
    "    return isChanged"
   ]
  },
  {
   "cell_type": "code",
   "execution_count": 20,
   "metadata": {},
   "outputs": [],
   "source": [
    "def main():\n",
    "    n = 5\n",
    "    print(\"Input\")\n",
    "    with open('question.input', 'r') as f:\n",
    "        input = [int(line[0]) for line in f]\n",
    "    with open('question.input', 'r') as f:    \n",
    "        for line in f:\n",
    "            answer = \"Yes\"\n",
    "            if int(line[0]) == 0:\n",
    "                answer = \"No\"\n",
    "            print(line[2:], answer)\n",
    "    result = decisionTree(input)\n",
    "    print(\"Output\")\n",
    "    if result == True:\n",
    "        print(\"Opinion Changed!\")\n",
    "    else:\n",
    "        print(\"Nah, Opinion NOT changed\")"
   ]
  },
  {
   "cell_type": "code",
   "execution_count": 21,
   "metadata": {},
   "outputs": [
    {
     "name": "stdout",
     "output_type": "stream",
     "text": [
      "Input\n",
      "Q1\n",
      " Yes\n",
      "Q2\n",
      " Yes\n",
      "Q3\n",
      " No\n",
      "Q4\n",
      " Yes\n",
      "Q5\n",
      " Yes\n",
      "Output\n",
      "Opinion Changed!\n"
     ]
    }
   ],
   "source": [
    "if __name__ == \"__main__\":\n",
    "    main()\n"
   ]
  },
  {
   "cell_type": "code",
   "execution_count": null,
   "metadata": {},
   "outputs": [],
   "source": []
  }
 ],
 "metadata": {
  "kernelspec": {
   "display_name": "Python 3",
   "language": "python",
   "name": "python3"
  },
  "language_info": {
   "codemirror_mode": {
    "name": "ipython",
    "version": 3
   },
   "file_extension": ".py",
   "mimetype": "text/x-python",
   "name": "python",
   "nbconvert_exporter": "python",
   "pygments_lexer": "ipython3",
   "version": "3.6.1"
  }
 },
 "nbformat": 4,
 "nbformat_minor": 2
}
